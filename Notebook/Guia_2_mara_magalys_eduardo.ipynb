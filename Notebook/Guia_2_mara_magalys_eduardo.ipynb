{
 "cells": [
  {
   "cell_type": "markdown",
   "metadata": {
    "id": "ofVpcl34JyWT"
   },
   "source": [
    "### **Grupo 7**\n",
    "*  Mara Alejandra Calderon Díaz\n",
    "*  Magalys del Carmen Camargo Hernandez\n",
    "*  Luis Eduardo Osorio Acevedo"
   ]
  },
  {
   "cell_type": "markdown",
   "metadata": {
    "id": "sVxeQki8vRXz"
   },
   "source": [
    "# **Guía 2**\n",
    "\n",
    "Objetivo: aplicar los conceptos de Pandas en la manipulación y análisis de datos estructurados. Se trabajará con Series y DataFrames, aplicando técnicas de acceso, selección, filtrado y agregación de datos.\n",
    "\n",
    "### **Caso de Negocio: Análisis de Deserción de Clientes en una Empresa de Telecomunicaciones**\n",
    "\n",
    "**Contexto**\n",
    "\n",
    "En la industria de las telecomunicaciones, la retención de clientes es un factor crítico para la sostenibilidad del negocio. La competencia es feroz y adquirir nuevos clientes suele ser más costoso que mantener a los actuales. En este análisis, exploraremos un conjunto de datos que contiene información detallada sobre clientes que han abandonado el servicio (churn) y aquellos que permanecen activos.\n",
    "\n",
    "Nuestro objetivo es identificar los factores clave que influyen en la deserción, comprender patrones de comportamiento y generar estrategias efectivas para reducir la tasa de abandono.\n",
    "\n",
    "La empresa ha experimentado un aumento en la tasa de deserción de clientes, lo que ha provocado:\n",
    "- Pérdida de ingresos recurrentes.\n",
    "- Incremento en los costos de adquisición de nuevos clientes.\n",
    "- Menor estabilidad en la base de clientes a largo plazo.\n",
    "\n",
    "Para abordar esta problemática, es crucial identificar las razones detrás de la deserción y desarrollar estrategias para mejorar la retención de clientes.\n",
    "\n"
   ]
  },
  {
   "cell_type": "markdown",
   "metadata": {
    "id": "TBsud25XSR0w"
   },
   "source": [
    "**Entrega del Trabajo**\n",
    "\n",
    "Los estudiantes deben trabajar en grupos de entre 2 y 4 personas. Cada grupo deberá subir su trabajo a un repositorio de GitHub, asegurándose de que el código y los archivos necesarios estén bien organizados y documentados. Posteriormente, deberán enviar el enlace del repositorio en la plataforma Canvas para su evaluación.\n",
    "\n",
    "Instrucciones para la entrega:\n",
    "\n",
    "Crear un repositorio en GitHub con un nombre descriptivo para el proyecto.\n",
    "\n",
    "Subir el código en Jupyter Notebook (.ipynb) o en formato Python (.py).\n",
    "\n",
    "Incluir un archivo README.md con una breve descripción del trabajo y las instrucciones de ejecución.\n",
    "\n",
    "Compartir el enlace del repositorio en Canvas dentro del plazo establecido.\n",
    "\n"
   ]
  },
  {
   "cell_type": "markdown",
   "metadata": {
    "id": "R1eyqBGSScta"
   },
   "source": [
    "**Descripción de las variables del dataset telecom_churn**\n",
    "\n",
    "El dataset telecom_churn contiene información detallada sobre clientes de una empresa de telecomunicaciones, incluyendo datos generales, planes contratados, uso del servicio telefónico y llamadas al servicio al cliente. Su propósito principal es analizar patrones de deserción de clientes, identificados a través de la variable churn, que indica si un cliente ha abandonado la empresa (1) o sigue siendo cliente (0).\n",
    "\n",
    "Dentro del dataset, encontramos información general como el estado (state) donde reside el cliente, el código de área (area code), y el número de teléfono (phone number), aunque esta última variable no aporta información útil para el análisis, ya que es un identificador único.\n",
    "\n",
    "Además, el dataset registra el tiempo que un cliente ha estado en la empresa a través de la variable account length, lo que puede ayudar a analizar si la duración del contrato influye en la deserción. También se incluyen detalles sobre los planes contratados, como si el cliente tiene un plan internacional (international plan), que le permite realizar llamadas internacionales, o un buzón de voz (voice mail plan), que le permite recibir mensajes de voz.\n",
    "\n",
    "En cuanto al uso del servicio, se registran datos detallados sobre el tiempo en llamadas y los costos asociados. Se divide en tres períodos del día: diurno (total day minutes, total day calls, total day charge), vespertino (total eve minutes, total eve calls, total eve charge) y nocturno (total night minutes, total night calls, total night charge), lo que permite evaluar si hay patrones de consumo que influyen en la deserción. También se incluye información sobre el uso del servicio internacional, con variables como total intl minutes (minutos en llamadas internacionales), total intl calls (cantidad de llamadas internacionales) y total intl charge (costos por llamadas internacionales).\n",
    "\n",
    "Otro aspecto clave del dataset es el número de llamadas al servicio al cliente (customer service calls), ya que una mayor cantidad de llamadas puede indicar insatisfacción y estar relacionada con la decisión del cliente de abandonar la empresa.\n",
    "\n",
    "Finalmente, la variable más importante del análisis es churn, que indica si un cliente ha desertado de la empresa. A partir de esta variable, podemos analizar qué factores influyen en la deserción y encontrar patrones en los clientes que tienen mayor probabilidad de abandonar el servicio.\n"
   ]
  },
  {
   "cell_type": "markdown",
   "metadata": {
    "id": "-gqRGJ8yFs5Y"
   },
   "source": [
    "**Exploración y Limpieza de Datos**\n",
    "\n",
    "Cargar y explorar el dataset\n",
    "\n",
    "Importa Pandas y carga el dataset telecom_churn.csv en un DataFrame.\n",
    "\n",
    "Muestra las primeras 5 filas del DataFrame.\n",
    "\n",
    "Verifica cuántas filas y columnas tiene el dataset.\n",
    "\n",
    "Muestra información general del dataset, incluyendo los tipos de datos.\n",
    "\n",
    "Identifica si hay valores nulos en alguna columna."
   ]
  },
  {
   "cell_type": "code",
   "execution_count": 38,
   "metadata": {
    "colab": {
     "base_uri": "https://localhost:8080/",
     "height": 377
    },
    "id": "wuoyvrE0vQ09",
    "outputId": "b4fbbe79-ca41-46f7-896e-4050bb9ab10d"
   },
   "outputs": [
    {
     "data": {
      "text/html": [
       "<div>\n",
       "<style scoped>\n",
       "    .dataframe tbody tr th:only-of-type {\n",
       "        vertical-align: middle;\n",
       "    }\n",
       "\n",
       "    .dataframe tbody tr th {\n",
       "        vertical-align: top;\n",
       "    }\n",
       "\n",
       "    .dataframe thead th {\n",
       "        text-align: right;\n",
       "    }\n",
       "</style>\n",
       "<table border=\"1\" class=\"dataframe\">\n",
       "  <thead>\n",
       "    <tr style=\"text-align: right;\">\n",
       "      <th></th>\n",
       "      <th>state</th>\n",
       "      <th>account length</th>\n",
       "      <th>area code</th>\n",
       "      <th>phone number</th>\n",
       "      <th>international plan</th>\n",
       "      <th>voice mail plan</th>\n",
       "      <th>number vmail messages</th>\n",
       "      <th>total day minutes</th>\n",
       "      <th>total day calls</th>\n",
       "      <th>total day charge</th>\n",
       "      <th>...</th>\n",
       "      <th>total eve calls</th>\n",
       "      <th>total eve charge</th>\n",
       "      <th>total night minutes</th>\n",
       "      <th>total night calls</th>\n",
       "      <th>total night charge</th>\n",
       "      <th>total intl minutes</th>\n",
       "      <th>total intl calls</th>\n",
       "      <th>total intl charge</th>\n",
       "      <th>customer service calls</th>\n",
       "      <th>churn</th>\n",
       "    </tr>\n",
       "  </thead>\n",
       "  <tbody>\n",
       "    <tr>\n",
       "      <th>0</th>\n",
       "      <td>KS</td>\n",
       "      <td>128</td>\n",
       "      <td>415</td>\n",
       "      <td>382-4657</td>\n",
       "      <td>no</td>\n",
       "      <td>yes</td>\n",
       "      <td>25</td>\n",
       "      <td>265.1</td>\n",
       "      <td>110</td>\n",
       "      <td>45.07</td>\n",
       "      <td>...</td>\n",
       "      <td>99</td>\n",
       "      <td>16.78</td>\n",
       "      <td>244.7</td>\n",
       "      <td>91</td>\n",
       "      <td>11.01</td>\n",
       "      <td>10.0</td>\n",
       "      <td>3</td>\n",
       "      <td>2.70</td>\n",
       "      <td>1</td>\n",
       "      <td>False</td>\n",
       "    </tr>\n",
       "    <tr>\n",
       "      <th>1</th>\n",
       "      <td>OH</td>\n",
       "      <td>107</td>\n",
       "      <td>415</td>\n",
       "      <td>371-7191</td>\n",
       "      <td>no</td>\n",
       "      <td>yes</td>\n",
       "      <td>26</td>\n",
       "      <td>161.6</td>\n",
       "      <td>123</td>\n",
       "      <td>27.47</td>\n",
       "      <td>...</td>\n",
       "      <td>103</td>\n",
       "      <td>16.62</td>\n",
       "      <td>254.4</td>\n",
       "      <td>103</td>\n",
       "      <td>11.45</td>\n",
       "      <td>13.7</td>\n",
       "      <td>3</td>\n",
       "      <td>3.70</td>\n",
       "      <td>1</td>\n",
       "      <td>False</td>\n",
       "    </tr>\n",
       "    <tr>\n",
       "      <th>2</th>\n",
       "      <td>NJ</td>\n",
       "      <td>137</td>\n",
       "      <td>415</td>\n",
       "      <td>358-1921</td>\n",
       "      <td>no</td>\n",
       "      <td>no</td>\n",
       "      <td>0</td>\n",
       "      <td>243.4</td>\n",
       "      <td>114</td>\n",
       "      <td>41.38</td>\n",
       "      <td>...</td>\n",
       "      <td>110</td>\n",
       "      <td>10.30</td>\n",
       "      <td>162.6</td>\n",
       "      <td>104</td>\n",
       "      <td>7.32</td>\n",
       "      <td>12.2</td>\n",
       "      <td>5</td>\n",
       "      <td>3.29</td>\n",
       "      <td>0</td>\n",
       "      <td>False</td>\n",
       "    </tr>\n",
       "    <tr>\n",
       "      <th>3</th>\n",
       "      <td>OH</td>\n",
       "      <td>84</td>\n",
       "      <td>408</td>\n",
       "      <td>375-9999</td>\n",
       "      <td>yes</td>\n",
       "      <td>no</td>\n",
       "      <td>0</td>\n",
       "      <td>299.4</td>\n",
       "      <td>71</td>\n",
       "      <td>50.90</td>\n",
       "      <td>...</td>\n",
       "      <td>88</td>\n",
       "      <td>5.26</td>\n",
       "      <td>196.9</td>\n",
       "      <td>89</td>\n",
       "      <td>8.86</td>\n",
       "      <td>6.6</td>\n",
       "      <td>7</td>\n",
       "      <td>1.78</td>\n",
       "      <td>2</td>\n",
       "      <td>False</td>\n",
       "    </tr>\n",
       "    <tr>\n",
       "      <th>4</th>\n",
       "      <td>OK</td>\n",
       "      <td>75</td>\n",
       "      <td>415</td>\n",
       "      <td>330-6626</td>\n",
       "      <td>yes</td>\n",
       "      <td>no</td>\n",
       "      <td>0</td>\n",
       "      <td>166.7</td>\n",
       "      <td>113</td>\n",
       "      <td>28.34</td>\n",
       "      <td>...</td>\n",
       "      <td>122</td>\n",
       "      <td>12.61</td>\n",
       "      <td>186.9</td>\n",
       "      <td>121</td>\n",
       "      <td>8.41</td>\n",
       "      <td>10.1</td>\n",
       "      <td>3</td>\n",
       "      <td>2.73</td>\n",
       "      <td>3</td>\n",
       "      <td>False</td>\n",
       "    </tr>\n",
       "  </tbody>\n",
       "</table>\n",
       "<p>5 rows × 21 columns</p>\n",
       "</div>"
      ],
      "text/plain": [
       "  state  account length  area code phone number international plan  \\\n",
       "0    KS             128        415     382-4657                 no   \n",
       "1    OH             107        415     371-7191                 no   \n",
       "2    NJ             137        415     358-1921                 no   \n",
       "3    OH              84        408     375-9999                yes   \n",
       "4    OK              75        415     330-6626                yes   \n",
       "\n",
       "  voice mail plan  number vmail messages  total day minutes  total day calls  \\\n",
       "0             yes                     25              265.1              110   \n",
       "1             yes                     26              161.6              123   \n",
       "2              no                      0              243.4              114   \n",
       "3              no                      0              299.4               71   \n",
       "4              no                      0              166.7              113   \n",
       "\n",
       "   total day charge  ...  total eve calls  total eve charge  \\\n",
       "0             45.07  ...               99             16.78   \n",
       "1             27.47  ...              103             16.62   \n",
       "2             41.38  ...              110             10.30   \n",
       "3             50.90  ...               88              5.26   \n",
       "4             28.34  ...              122             12.61   \n",
       "\n",
       "   total night minutes  total night calls  total night charge  \\\n",
       "0                244.7                 91               11.01   \n",
       "1                254.4                103               11.45   \n",
       "2                162.6                104                7.32   \n",
       "3                196.9                 89                8.86   \n",
       "4                186.9                121                8.41   \n",
       "\n",
       "   total intl minutes  total intl calls  total intl charge  \\\n",
       "0                10.0                 3               2.70   \n",
       "1                13.7                 3               3.70   \n",
       "2                12.2                 5               3.29   \n",
       "3                 6.6                 7               1.78   \n",
       "4                10.1                 3               2.73   \n",
       "\n",
       "   customer service calls  churn  \n",
       "0                       1  False  \n",
       "1                       1  False  \n",
       "2                       0  False  \n",
       "3                       2  False  \n",
       "4                       3  False  \n",
       "\n",
       "[5 rows x 21 columns]"
      ]
     },
     "execution_count": 38,
     "metadata": {},
     "output_type": "execute_result"
    }
   ],
   "source": [
    "# Se importa la librería pandas\n",
    "import pandas as pd\n",
    "\n",
    "# Se carga el dataset telecom_churn.csv en un DataFrame\n",
    "df = pd.read_csv('../Dataset/telecom_churn.csv')\n",
    "\n",
    "# Se muestran las primeras 5 filas del DataFrame\n",
    "df.head()"
   ]
  },
  {
   "cell_type": "code",
   "execution_count": 39,
   "metadata": {
    "colab": {
     "base_uri": "https://localhost:8080/"
    },
    "id": "ZQ2f8Lb-xPhJ",
    "outputId": "0b81323b-662d-45a0-c225-1dfedd9df361"
   },
   "outputs": [
    {
     "data": {
      "text/plain": [
       "(3333, 21)"
      ]
     },
     "execution_count": 39,
     "metadata": {},
     "output_type": "execute_result"
    }
   ],
   "source": [
    "# Se verifica la cantidad de filas y columnas del dataset\n",
    "df.shape"
   ]
  },
  {
   "cell_type": "code",
   "execution_count": 40,
   "metadata": {
    "colab": {
     "base_uri": "https://localhost:8080/"
    },
    "id": "Qy9hxJYZxTOL",
    "outputId": "428c4baa-a4f0-4456-c4e5-d1b492d8795f"
   },
   "outputs": [
    {
     "name": "stdout",
     "output_type": "stream",
     "text": [
      "<class 'pandas.core.frame.DataFrame'>\n",
      "RangeIndex: 3333 entries, 0 to 3332\n",
      "Data columns (total 21 columns):\n",
      " #   Column                  Non-Null Count  Dtype  \n",
      "---  ------                  --------------  -----  \n",
      " 0   state                   3333 non-null   object \n",
      " 1   account length          3333 non-null   int64  \n",
      " 2   area code               3333 non-null   int64  \n",
      " 3   phone number            3333 non-null   object \n",
      " 4   international plan      3333 non-null   object \n",
      " 5   voice mail plan         3333 non-null   object \n",
      " 6   number vmail messages   3333 non-null   int64  \n",
      " 7   total day minutes       3333 non-null   float64\n",
      " 8   total day calls         3333 non-null   int64  \n",
      " 9   total day charge        3333 non-null   float64\n",
      " 10  total eve minutes       3333 non-null   float64\n",
      " 11  total eve calls         3333 non-null   int64  \n",
      " 12  total eve charge        3333 non-null   float64\n",
      " 13  total night minutes     3333 non-null   float64\n",
      " 14  total night calls       3333 non-null   int64  \n",
      " 15  total night charge      3333 non-null   float64\n",
      " 16  total intl minutes      3333 non-null   float64\n",
      " 17  total intl calls        3333 non-null   int64  \n",
      " 18  total intl charge       3333 non-null   float64\n",
      " 19  customer service calls  3333 non-null   int64  \n",
      " 20  churn                   3333 non-null   bool   \n",
      "dtypes: bool(1), float64(8), int64(8), object(4)\n",
      "memory usage: 524.2+ KB\n"
     ]
    }
   ],
   "source": [
    "# Se muestra información general del dataset, incluyendo tipos de datos\n",
    "df.info()"
   ]
  },
  {
   "cell_type": "markdown",
   "metadata": {
    "id": "d_4fkr_zrO5W"
   },
   "source": [
    "Según la información obetenida el data set cuenta con 3333 registros y 21 columnas. De estas columnas 1 es un tipo de datos boleano, 8 flotantes, 8 enteros y 4 objetos."
   ]
  },
  {
   "cell_type": "markdown",
   "metadata": {
    "id": "PIGXq-ijFgb4"
   },
   "source": [
    "**Análisis de Churn y Factores Relacionados**\n",
    "\n",
    "Calcula el porcentaje de clientes que han desertado (churn = 1).\n",
    "\n",
    "Identifica si los clientes con plan internacional (international plan) tienen mayor tasa de deserción.\n",
    "\n",
    "Identifica si los clientes con buzón de voz (voice mail plan) tienen menor tasa de deserción."
   ]
  },
  {
   "cell_type": "code",
   "execution_count": 43,
   "metadata": {
    "colab": {
     "base_uri": "https://localhost:8080/",
     "height": 178
    },
    "id": "3_TFqdwBwUD-",
    "outputId": "248a3f4b-72a1-44ad-9206-9d456baa48c6"
   },
   "outputs": [
    {
     "data": {
      "text/plain": [
       "churn\n",
       "False    85.508551\n",
       "True     14.491449\n",
       "Name: proportion, dtype: float64"
      ]
     },
     "execution_count": 43,
     "metadata": {},
     "output_type": "execute_result"
    }
   ],
   "source": [
    "# Porcentaje de clientes que han desertado\n",
    "client_desercion = df['churn'].value_counts(normalize= True)*100\n",
    "client_desercion"
   ]
  },
  {
   "cell_type": "code",
   "execution_count": 44,
   "metadata": {
    "colab": {
     "base_uri": "https://localhost:8080/",
     "height": 178
    },
    "id": "OR1K1fq6q4dZ",
    "outputId": "7486f940-f093-470b-cbf6-2d8d512c10f2"
   },
   "outputs": [
    {
     "data": {
      "text/plain": [
       "churn\n",
       "False    186\n",
       "True     137\n",
       "dtype: int64"
      ]
     },
     "execution_count": 44,
     "metadata": {},
     "output_type": "execute_result"
    }
   ],
   "source": [
    "# Agrupar datos por plan internacional\n",
    "df.groupby(['international plan', 'churn']).size().get(\"yes\")"
   ]
  },
  {
   "cell_type": "code",
   "execution_count": 45,
   "metadata": {
    "colab": {
     "base_uri": "https://localhost:8080/",
     "height": 178
    },
    "id": "NFVMBcnuq7V8",
    "outputId": "f8e09027-28f6-464b-8887-cf7f9f5514fe"
   },
   "outputs": [
    {
     "data": {
      "text/plain": [
       "churn\n",
       "False    842\n",
       "True      80\n",
       "dtype: int64"
      ]
     },
     "execution_count": 45,
     "metadata": {},
     "output_type": "execute_result"
    }
   ],
   "source": [
    "# Agrupar datos por plan de buzon de voz\n",
    "df.groupby(['voice mail plan', 'churn']).size().get('yes')"
   ]
  },
  {
   "cell_type": "markdown",
   "metadata": {
    "id": "LtDGqz0LrBH8"
   },
   "source": [
    "Conclusión: No se puede afirmar que los clientes con plan de buzon de voz tienen una mayor taza de deserción"
   ]
  },
  {
   "cell_type": "markdown",
   "metadata": {
    "id": "yL8Y_juFFup7"
   },
   "source": [
    "**Análisis de la Duración del Servicio y Deserción**\n",
    "\n",
    "¿Cuál es la duración promedio de la cuenta (account length) entre clientes que desertaron y los que permanecen?\n",
    "\n",
    "¿Los clientes con cuentas más antiguas tienen más probabilidades de desertar?"
   ]
  },
  {
   "cell_type": "code",
   "execution_count": 48,
   "metadata": {
    "colab": {
     "base_uri": "https://localhost:8080/",
     "height": 178
    },
    "id": "7ViU0n6lGFao",
    "outputId": "c132ecea-870f-44f4-a452-22250e0e6eb9"
   },
   "outputs": [
    {
     "data": {
      "text/plain": [
       "churn\n",
       "False    100.793684\n",
       "True     102.664596\n",
       "Name: account length, dtype: float64"
      ]
     },
     "execution_count": 48,
     "metadata": {},
     "output_type": "execute_result"
    }
   ],
   "source": [
    "# Sacar duración promedio\n",
    "df.groupby('churn')[\"account length\"].mean()"
   ]
  },
  {
   "cell_type": "code",
   "execution_count": 49,
   "metadata": {
    "colab": {
     "base_uri": "https://localhost:8080/"
    },
    "id": "Mktho-E0rV-N",
    "outputId": "b24e78e0-2791-4657-d285-5fcdf6ca2100"
   },
   "outputs": [
    {
     "name": "stdout",
     "output_type": "stream",
     "text": [
      "Desertores y permanentes df_cuent_ant\n",
      " churn\n",
      "False    1385\n",
      "True      244\n",
      "Name: count, dtype: int64\n"
     ]
    }
   ],
   "source": [
    "# Sacar promedio de la variable a account length\n",
    "prom = df['account length'].mean()\n",
    "\n",
    "# Filtrar base de datos extrayendo clientes con cuentas con una duración superior al promedio\n",
    "df_cuent_ant = df.loc[df['account length'] >= prom]\n",
    "\n",
    "# Contar desertores y permanentes en data set df_cuent_ant\n",
    "print(\"Desertores y permanentes df_cuent_ant\\n\",df_cuent_ant['churn'].value_counts())"
   ]
  },
  {
   "cell_type": "markdown",
   "metadata": {
    "id": "vyaa82K0GF6B"
   },
   "source": [
    "**Relación entre Deserción y Uso del Servicio**\n",
    "\n",
    "Compara la cantidad de minutos usados en llamadas diurnas (total day minutes) entre clientes con y sin churn.\n",
    "\n",
    "Compara la cantidad de minutos usados en llamadas nocturnas (total night minutes).\n",
    "\n",
    "Compara el número total de llamadas (total day calls) entre clientes con y sin churn."
   ]
  },
  {
   "cell_type": "code",
   "execution_count": 51,
   "metadata": {
    "colab": {
     "base_uri": "https://localhost:8080/"
    },
    "id": "d4aPKcv2GrpL",
    "outputId": "cd7226af-f2c4-49ed-f9d1-bebded8cc3bf"
   },
   "outputs": [
    {
     "name": "stdout",
     "output_type": "stream",
     "text": [
      "Total day minutes por cada categoria de la variable churn\n",
      " churn\n",
      "False    499250.9\n",
      "True      99939.5\n",
      "Name: total day minutes, dtype: float64\n",
      "\n",
      "Total night minutes por cada categoria de la variable churn\n",
      " churn\n",
      "False    570379.6\n",
      "True      99126.9\n",
      "Name: total night minutes, dtype: float64\n",
      "\n",
      "Total day calls por cada categoria de la variable churn\n",
      " churn\n",
      "False    285807\n",
      "True      48945\n",
      "Name: total day calls, dtype: int64\n"
     ]
    }
   ],
   "source": [
    "# Sumar total day minutes por cada categoria de la variable churn\n",
    "print(\"Total day minutes por cada categoria de la variable churn\\n\",df.groupby('churn')[\"total day minutes\"].sum())\n",
    "# Sumar total night minutes por cada categoria de la variable churn\n",
    "print(\"\\nTotal night minutes por cada categoria de la variable churn\\n\",df.groupby('churn')[\"total night minutes\"].sum())\n",
    "# Sumar total day calls por cada categoria de la variable churn\n",
    "print(\"\\nTotal day calls por cada categoria de la variable churn\\n\",df.groupby('churn')[\"total day calls\"].sum())"
   ]
  },
  {
   "cell_type": "markdown",
   "metadata": {
    "id": "aKl9LnZgGsDT"
   },
   "source": [
    "**Impacto de las Llamadas al Servicio al Cliente en la Deserción**\n",
    "\n",
    "Calcula el número promedio de llamadas al servicio al cliente (customer service calls) entre clientes que desertaron y los que no.\n",
    "\n",
    "Divide los clientes en dos grupos:\n",
    "\n",
    "- Grupo 1: Clientes que llamaron más de 3 veces al servicio al cliente.\n",
    "- Grupo 2: Clientes que llamaron 3 veces o menos.\n",
    "Compara la tasa de churn entre ambos grupos."
   ]
  },
  {
   "cell_type": "code",
   "execution_count": 53,
   "metadata": {
    "colab": {
     "base_uri": "https://localhost:8080/"
    },
    "id": "ac9qDXgrGz-M",
    "outputId": "21cb9f54-3c21-48a8-8b46-f7223d325fc4"
   },
   "outputs": [
    {
     "name": "stdout",
     "output_type": "stream",
     "text": [
      "Promedio de llamadas al servicio al cliente entre clientes que desertaron y los que no\n",
      " churn\n",
      "False    1.449825\n",
      "True     2.229814\n",
      "Name: customer service calls, dtype: float64\n"
     ]
    }
   ],
   "source": [
    "# Promedio de llamadas al servicio al cliente por cada categoria de la variable churn\n",
    "print(\"Promedio de llamadas al servicio al cliente entre clientes que desertaron y los que no\\n\",df.groupby('churn')[\"customer service calls\"].mean())"
   ]
  },
  {
   "cell_type": "code",
   "execution_count": 54,
   "metadata": {
    "colab": {
     "base_uri": "https://localhost:8080/"
    },
    "id": "YP_EWiRhuIC6",
    "outputId": "400a034c-e003-451c-a022-f977248bbc21"
   },
   "outputs": [
    {
     "name": "stdout",
     "output_type": "stream",
     "text": [
      "(267, 21)\n",
      "(3066, 21)\n",
      "Tasa desertores y permanentes df_cand_llam_mas\n",
      " churn\n",
      "True     51.685393\n",
      "False    48.314607\n",
      "Name: proportion, dtype: float64\n",
      "Tasa desertores y permanentes df_cuent_llam_men\n",
      " churn\n",
      "False    88.747554\n",
      "True     11.252446\n",
      "Name: proportion, dtype: float64\n"
     ]
    }
   ],
   "source": [
    "# Declarar variables\n",
    "cand_llam = 3\n",
    "# Filtrar base de datos extrayendo clientes que llamaron más de 3 veces al servicio al cliente\n",
    "df_cand_llam_mas = df.loc[df['customer service calls'] > cand_llam]\n",
    "# Filtrar base de datos extrayendo clientes que llamaron 3 veces o menos al servicio al cliente\n",
    "df_cuent_llam_men = df.loc[df['customer service calls'] <= cand_llam]\n",
    "print(df_cand_llam_mas.shape)\n",
    "print(df_cuent_llam_men.shape)\n",
    "# Contar desertores y permanentes en data set df_cand_llam_mas\n",
    "print(\"Tasa desertores y permanentes df_cand_llam_mas\\n\",df_cand_llam_mas['churn'].value_counts(normalize= True)*100)\n",
    "# Contar desertores y permanentes en data set df_cuent_llam_men\n",
    "print(\"Tasa desertores y permanentes df_cuent_llam_men\\n\",df_cuent_llam_men['churn'].value_counts(normalize= True)*100)"
   ]
  },
  {
   "cell_type": "markdown",
   "metadata": {
    "id": "U7oTziiyG0Wb"
   },
   "source": [
    "**Análisis del Costo de las Llamadas y Churn**\n",
    "\n",
    "Compara el costo total de llamadas diurnas (total day charge) entre clientes con y sin churn.\n",
    "\n",
    "Compara el costo total de llamadas nocturnas (total night charge).\n",
    "\n",
    "¿Los clientes con mayor gasto en llamadas internacionales (total intl charge) tienen más probabilidades de desertar?"
   ]
  },
  {
   "cell_type": "code",
   "execution_count": 56,
   "metadata": {
    "colab": {
     "base_uri": "https://localhost:8080/"
    },
    "id": "YWGmcLdoIYwx",
    "outputId": "cfdc511c-47a6-4236-8196-438681917f46"
   },
   "outputs": [
    {
     "name": "stdout",
     "output_type": "stream",
     "text": [
      "churn\n",
      "False    84874.20\n",
      "True     16989.97\n",
      "Name: total day charge, dtype: float64\n",
      "La tasa de churn entre los clientes sin churn es mayor\n",
      "\n",
      "El costo total de llamadas nocturnas entre clientes con y sin churn\n",
      "churn\n",
      "False    25667.31\n",
      "True      4460.76\n",
      "Name: total night charge, dtype: float64\n"
     ]
    }
   ],
   "source": [
    "# Comparacion el costo total de llamadas entre clientes con y sin churn\n",
    "\n",
    "agrupado = df.groupby(\"churn\")[\"total day charge\"].sum()\n",
    "print(agrupado)\n",
    "\n",
    "if False>True:\n",
    "  print(\"La tasa de churn entre los clientes con churn es mayor\")\n",
    "else:\n",
    "  print(\"La tasa de churn entre los clientes sin churn es mayor\")\n",
    "\n",
    "# Comparacion del costo total de llamadas nocturnas\n",
    "\n",
    "agrupado = df.groupby(\"churn\")[\"total night charge\"].sum()\n",
    "print(\"\\nEl costo total de llamadas nocturnas entre clientes con y sin churn\")\n",
    "print(agrupado)"
   ]
  }
 ],
 "metadata": {
  "colab": {
   "provenance": []
  },
  "kernelspec": {
   "display_name": "Python 3 (ipykernel)",
   "language": "python",
   "name": "python3"
  },
  "language_info": {
   "codemirror_mode": {
    "name": "ipython",
    "version": 3
   },
   "file_extension": ".py",
   "mimetype": "text/x-python",
   "name": "python",
   "nbconvert_exporter": "python",
   "pygments_lexer": "ipython3",
   "version": "3.12.4"
  }
 },
 "nbformat": 4,
 "nbformat_minor": 4
}
